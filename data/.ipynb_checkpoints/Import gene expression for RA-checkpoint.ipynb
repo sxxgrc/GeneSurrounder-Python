{
 "cells": [
  {
   "cell_type": "code",
   "execution_count": 2,
   "metadata": {},
   "outputs": [],
   "source": [
    "import pandas as pd"
   ]
  },
  {
   "cell_type": "code",
   "execution_count": 14,
   "metadata": {},
   "outputs": [],
   "source": [
    "RA_expression=pd.read_csv('GSE143443_lcpm2.txt', sep='\\t',engine='python')"
   ]
  },
  {
   "cell_type": "code",
   "execution_count": 15,
   "metadata": {},
   "outputs": [
    {
     "name": "stdout",
     "output_type": "stream",
     "text": [
      "            Unnamed: 0  1624IL6_H  1624Med_H  1784IL6_H  1784Med_H  2600IL6_H  \\\n",
      "0      ENSG00000000003   5.376669   5.429213   5.308092   5.383443   5.520420   \n",
      "1      ENSG00000000419   4.153561   4.143421   4.165534   4.163701   4.289946   \n",
      "2      ENSG00000000457   3.934043   3.716083   4.036756   3.599660   3.568348   \n",
      "3      ENSG00000000460   2.748742   2.548079   2.534891   3.221355   3.090793   \n",
      "4      ENSG00000000971   8.267013   8.106357   7.991445   7.865634   7.840177   \n",
      "...                ...        ...        ...        ...        ...        ...   \n",
      "16265  ENSG00000284024   0.171686   0.271951   0.710071  -0.092540   0.293878   \n",
      "16266  ENSG00000284048   2.419841   2.908062   1.893598   2.919535   2.254439   \n",
      "16267  ENSG00000284052   1.669778   1.138791   1.612991   1.054559   1.287797   \n",
      "16268  ENSG00000284237   1.319942   2.067299   1.197010   1.818438   0.293878   \n",
      "16269  ENSG00000284526   3.452339   3.068690   3.884694   3.729236   3.753115   \n",
      "\n",
      "       2600Med_H  630IL6_H  630Med_H  952IL6_H  ...  906IL6_K  906Med_K  \\\n",
      "0       5.306929  5.715840  5.718527  5.460930  ...  5.643623  5.719694   \n",
      "1       3.996593  4.201404  4.250210  4.101830  ...  4.395128  4.111085   \n",
      "2       3.640957  3.727555  3.750914  4.009315  ...  4.031629  3.954644   \n",
      "3       2.626479  2.681325  2.713593  3.310048  ...  2.846054  2.928317   \n",
      "4       7.806412  7.009755  7.267635  8.944621  ...  7.810770  7.653743   \n",
      "...          ...       ...       ...       ...  ...       ...       ...   \n",
      "16265   0.419937  0.752291  0.523764  0.229906  ...  0.987902 -0.146376   \n",
      "16266   2.889983  1.506238  1.829136  2.471285  ...  2.130445  2.090131   \n",
      "16267   1.300313  0.338023  0.280972  2.018736  ...  1.262950  0.841115   \n",
      "16268   1.009233 -0.920713 -0.011115  0.677490  ...  0.910087  1.061711   \n",
      "16269   3.461066  4.098937  3.876533  3.230318  ...  4.031629  3.518517   \n",
      "\n",
      "       1177IL6_K  1177Med_K  1540IL6_K  1540Med_K  1732IL6_K  1732Med_K  \\\n",
      "0       5.611073   5.511740   5.650113   5.706157   5.800544   5.726961   \n",
      "1       4.206472   3.841840   4.393152   4.279573   3.935731   3.876960   \n",
      "2       4.089500   3.943455   3.851829   3.887062   4.123579   4.087259   \n",
      "3       3.466190   3.010880   3.089339   2.797212   3.203022   2.776737   \n",
      "4       8.903208   8.726447   8.279345   8.318381   8.114032   8.038181   \n",
      "...          ...        ...        ...        ...        ...        ...   \n",
      "16265   0.134498   0.070386   0.871400   0.783610   0.239057   0.588848   \n",
      "16266   2.106044   2.933954   2.033006   2.754850   2.742839   2.958888   \n",
      "16267   1.403868   0.916155   0.871400   0.604354   1.395710   1.575129   \n",
      "16268   0.816646   1.138149   0.483741   1.153334  -0.168075   1.222839   \n",
      "16269   4.070631   3.430429   3.540565   2.992159   3.719710   3.398070   \n",
      "\n",
      "       1980IL6_K  1980Med_K  \n",
      "0       5.563557   5.529551  \n",
      "1       4.155947   4.256842  \n",
      "2       4.034422   3.943309  \n",
      "3       3.091054   3.005685  \n",
      "4       8.263960   8.207935  \n",
      "...          ...        ...  \n",
      "16265   0.625026   0.042353  \n",
      "16266   2.282601   2.510368  \n",
      "16267   1.576444   1.056626  \n",
      "16268   0.401286   0.689992  \n",
      "16269   4.053797   3.793523  \n",
      "\n",
      "[16270 rows x 21 columns]\n"
     ]
    }
   ],
   "source": [
    "print(RA_expression)"
   ]
  },
  {
   "cell_type": "code",
   "execution_count": 8,
   "metadata": {},
   "outputs": [
    {
     "name": "stdout",
     "output_type": "stream",
     "text": [
      "16270\n"
     ]
    }
   ],
   "source": [
    "f= open(\"ensembl_name.txt\",\"w+\")\n",
    "ensemblID=list(RA_expression['Unnamed: 0'])\n",
    "print(len(ensemblID))\n",
    "for i in range(0,len(ensemblID)):\n",
    "    f.write(ensemblID[i]+'\\n')"
   ]
  },
  {
   "cell_type": "code",
   "execution_count": 40,
   "metadata": {
    "scrolled": true
   },
   "outputs": [],
   "source": [
    "ensembltoNCBI=pd.read_csv('mart_export (1).txt', sep=',',engine='python',dtype=str)\n",
    "#convert ncbi ID to kegg ID\n",
    "ncbiID=list(ensembltoNCBI['NCBI gene ID'])\n",
    "dropindex=[]\n",
    "for i in range(0,len(ncbiID)):\n",
    "    if str(ncbiID[i])!='nan':\n",
    "        ensembltoNCBI.iloc[i,1]='hsa:'+str(ncbiID[i])\n",
    "    elif str(ncbiID[i])=='nan':\n",
    "        dropindex.append(i)"
   ]
  },
  {
   "cell_type": "code",
   "execution_count": 47,
   "metadata": {},
   "outputs": [],
   "source": [
    "ensembltoNCBI=ensembltoNCBI.drop(dropindex)"
   ]
  },
  {
   "cell_type": "code",
   "execution_count": 48,
   "metadata": {},
   "outputs": [
    {
     "name": "stdout",
     "output_type": "stream",
     "text": [
      "        Gene stable ID   NCBI gene ID\n",
      "0      ENSG00000000003       hsa:7105\n",
      "1      ENSG00000000419       hsa:8813\n",
      "2      ENSG00000000457      hsa:57147\n",
      "3      ENSG00000000460      hsa:55732\n",
      "4      ENSG00000000971       hsa:3075\n",
      "...                ...            ...\n",
      "16230  ENSG00000283473  hsa:100132146\n",
      "16235  ENSG00000283654  hsa:100128908\n",
      "16237  ENSG00000283683  hsa:110806290\n",
      "16241  ENSG00000283828  hsa:102724474\n",
      "16244  ENSG00000284024      hsa:51182\n",
      "\n",
      "[12915 rows x 2 columns]\n"
     ]
    }
   ],
   "source": [
    "print(ensembltoNCBI)"
   ]
  },
  {
   "cell_type": "code",
   "execution_count": 49,
   "metadata": {},
   "outputs": [],
   "source": [
    "refined_ensembltoNCBI=ensembltoNCBI.reset_index(drop=True)"
   ]
  },
  {
   "cell_type": "code",
   "execution_count": 52,
   "metadata": {},
   "outputs": [],
   "source": [
    "refined_ensembltoNCBI=refined_ensembltoNCBI.set_index('Gene stable ID')"
   ]
  },
  {
   "cell_type": "code",
   "execution_count": 53,
   "metadata": {},
   "outputs": [
    {
     "name": "stdout",
     "output_type": "stream",
     "text": [
      "                  NCBI gene ID\n",
      "Gene stable ID                \n",
      "ENSG00000000003       hsa:7105\n",
      "ENSG00000000419       hsa:8813\n",
      "ENSG00000000457      hsa:57147\n",
      "ENSG00000000460      hsa:55732\n",
      "ENSG00000000971       hsa:3075\n",
      "...                        ...\n",
      "ENSG00000283473  hsa:100132146\n",
      "ENSG00000283654  hsa:100128908\n",
      "ENSG00000283683  hsa:110806290\n",
      "ENSG00000283828  hsa:102724474\n",
      "ENSG00000284024      hsa:51182\n",
      "\n",
      "[12915 rows x 1 columns]\n"
     ]
    }
   ],
   "source": [
    "print(refined_ensembltoNCBI)"
   ]
  },
  {
   "cell_type": "code",
   "execution_count": 55,
   "metadata": {},
   "outputs": [
    {
     "ename": "KeyError",
     "evalue": "'ENSG00000000003'",
     "output_type": "error",
     "traceback": [
      "\u001b[1;31m---------------------------------------------------------------------------\u001b[0m",
      "\u001b[1;31mKeyError\u001b[0m                                  Traceback (most recent call last)",
      "\u001b[1;32mc:\\program files\\python37\\lib\\site-packages\\pandas\\core\\indexes\\base.py\u001b[0m in \u001b[0;36mget_loc\u001b[1;34m(self, key, method, tolerance)\u001b[0m\n\u001b[0;32m   2645\u001b[0m             \u001b[1;32mtry\u001b[0m\u001b[1;33m:\u001b[0m\u001b[1;33m\u001b[0m\u001b[1;33m\u001b[0m\u001b[0m\n\u001b[1;32m-> 2646\u001b[1;33m                 \u001b[1;32mreturn\u001b[0m \u001b[0mself\u001b[0m\u001b[1;33m.\u001b[0m\u001b[0m_engine\u001b[0m\u001b[1;33m.\u001b[0m\u001b[0mget_loc\u001b[0m\u001b[1;33m(\u001b[0m\u001b[0mkey\u001b[0m\u001b[1;33m)\u001b[0m\u001b[1;33m\u001b[0m\u001b[1;33m\u001b[0m\u001b[0m\n\u001b[0m\u001b[0;32m   2647\u001b[0m             \u001b[1;32mexcept\u001b[0m \u001b[0mKeyError\u001b[0m\u001b[1;33m:\u001b[0m\u001b[1;33m\u001b[0m\u001b[1;33m\u001b[0m\u001b[0m\n",
      "\u001b[1;32mpandas\\_libs\\index.pyx\u001b[0m in \u001b[0;36mpandas._libs.index.IndexEngine.get_loc\u001b[1;34m()\u001b[0m\n",
      "\u001b[1;32mpandas\\_libs\\index.pyx\u001b[0m in \u001b[0;36mpandas._libs.index.IndexEngine.get_loc\u001b[1;34m()\u001b[0m\n",
      "\u001b[1;32mpandas\\_libs\\index_class_helper.pxi\u001b[0m in \u001b[0;36mpandas._libs.index.Int64Engine._check_type\u001b[1;34m()\u001b[0m\n",
      "\u001b[1;31mKeyError\u001b[0m: 'ENSG00000000003'",
      "\nDuring handling of the above exception, another exception occurred:\n",
      "\u001b[1;31mKeyError\u001b[0m                                  Traceback (most recent call last)",
      "\u001b[1;32m<ipython-input-55-f647b1a1ab63>\u001b[0m in \u001b[0;36m<module>\u001b[1;34m\u001b[0m\n\u001b[0;32m      6\u001b[0m             \u001b[0mindex\u001b[0m\u001b[1;33m.\u001b[0m\u001b[0mappend\u001b[0m\u001b[1;33m[\u001b[0m\u001b[0mi\u001b[0m\u001b[1;33m]\u001b[0m\u001b[1;33m\u001b[0m\u001b[1;33m\u001b[0m\u001b[0m\n\u001b[0;32m      7\u001b[0m     \u001b[1;32melse\u001b[0m\u001b[1;33m:\u001b[0m\u001b[1;33m\u001b[0m\u001b[1;33m\u001b[0m\u001b[0m\n\u001b[1;32m----> 8\u001b[1;33m         \u001b[0ma\u001b[0m\u001b[1;33m=\u001b[0m\u001b[0mensembltoNCBI\u001b[0m\u001b[1;33m.\u001b[0m\u001b[0mindex\u001b[0m\u001b[1;33m.\u001b[0m\u001b[0mget_loc\u001b[0m\u001b[1;33m(\u001b[0m\u001b[0mgene_ensembl\u001b[0m\u001b[1;33m[\u001b[0m\u001b[0mi\u001b[0m\u001b[1;33m]\u001b[0m\u001b[1;33m)\u001b[0m\u001b[1;33m\u001b[0m\u001b[1;33m\u001b[0m\u001b[0m\n\u001b[0m\u001b[0;32m      9\u001b[0m         \u001b[0mRA_expression_kegg\u001b[0m\u001b[1;33m.\u001b[0m\u001b[0miloc\u001b[0m\u001b[1;33m[\u001b[0m\u001b[0mi\u001b[0m\u001b[1;33m,\u001b[0m\u001b[1;36m0\u001b[0m\u001b[1;33m]\u001b[0m\u001b[1;33m=\u001b[0m\u001b[0mensembltoNCBI\u001b[0m\u001b[1;33m.\u001b[0m\u001b[0miloc\u001b[0m\u001b[1;33m[\u001b[0m\u001b[0ma\u001b[0m\u001b[1;33m,\u001b[0m\u001b[1;36m0\u001b[0m\u001b[1;33m]\u001b[0m\u001b[1;33m\u001b[0m\u001b[1;33m\u001b[0m\u001b[0m\n\u001b[0;32m     10\u001b[0m \u001b[0mRA_expression_kegg\u001b[0m\u001b[1;33m.\u001b[0m\u001b[0mdrop\u001b[0m\u001b[1;33m(\u001b[0m\u001b[0mindex\u001b[0m\u001b[1;33m)\u001b[0m\u001b[1;33m\u001b[0m\u001b[1;33m\u001b[0m\u001b[0m\n",
      "\u001b[1;32mc:\\program files\\python37\\lib\\site-packages\\pandas\\core\\indexes\\base.py\u001b[0m in \u001b[0;36mget_loc\u001b[1;34m(self, key, method, tolerance)\u001b[0m\n\u001b[0;32m   2646\u001b[0m                 \u001b[1;32mreturn\u001b[0m \u001b[0mself\u001b[0m\u001b[1;33m.\u001b[0m\u001b[0m_engine\u001b[0m\u001b[1;33m.\u001b[0m\u001b[0mget_loc\u001b[0m\u001b[1;33m(\u001b[0m\u001b[0mkey\u001b[0m\u001b[1;33m)\u001b[0m\u001b[1;33m\u001b[0m\u001b[1;33m\u001b[0m\u001b[0m\n\u001b[0;32m   2647\u001b[0m             \u001b[1;32mexcept\u001b[0m \u001b[0mKeyError\u001b[0m\u001b[1;33m:\u001b[0m\u001b[1;33m\u001b[0m\u001b[1;33m\u001b[0m\u001b[0m\n\u001b[1;32m-> 2648\u001b[1;33m                 \u001b[1;32mreturn\u001b[0m \u001b[0mself\u001b[0m\u001b[1;33m.\u001b[0m\u001b[0m_engine\u001b[0m\u001b[1;33m.\u001b[0m\u001b[0mget_loc\u001b[0m\u001b[1;33m(\u001b[0m\u001b[0mself\u001b[0m\u001b[1;33m.\u001b[0m\u001b[0m_maybe_cast_indexer\u001b[0m\u001b[1;33m(\u001b[0m\u001b[0mkey\u001b[0m\u001b[1;33m)\u001b[0m\u001b[1;33m)\u001b[0m\u001b[1;33m\u001b[0m\u001b[1;33m\u001b[0m\u001b[0m\n\u001b[0m\u001b[0;32m   2649\u001b[0m         \u001b[0mindexer\u001b[0m \u001b[1;33m=\u001b[0m \u001b[0mself\u001b[0m\u001b[1;33m.\u001b[0m\u001b[0mget_indexer\u001b[0m\u001b[1;33m(\u001b[0m\u001b[1;33m[\u001b[0m\u001b[0mkey\u001b[0m\u001b[1;33m]\u001b[0m\u001b[1;33m,\u001b[0m \u001b[0mmethod\u001b[0m\u001b[1;33m=\u001b[0m\u001b[0mmethod\u001b[0m\u001b[1;33m,\u001b[0m \u001b[0mtolerance\u001b[0m\u001b[1;33m=\u001b[0m\u001b[0mtolerance\u001b[0m\u001b[1;33m)\u001b[0m\u001b[1;33m\u001b[0m\u001b[1;33m\u001b[0m\u001b[0m\n\u001b[0;32m   2650\u001b[0m         \u001b[1;32mif\u001b[0m \u001b[0mindexer\u001b[0m\u001b[1;33m.\u001b[0m\u001b[0mndim\u001b[0m \u001b[1;33m>\u001b[0m \u001b[1;36m1\u001b[0m \u001b[1;32mor\u001b[0m \u001b[0mindexer\u001b[0m\u001b[1;33m.\u001b[0m\u001b[0msize\u001b[0m \u001b[1;33m>\u001b[0m \u001b[1;36m1\u001b[0m\u001b[1;33m:\u001b[0m\u001b[1;33m\u001b[0m\u001b[1;33m\u001b[0m\u001b[0m\n",
      "\u001b[1;32mpandas\\_libs\\index.pyx\u001b[0m in \u001b[0;36mpandas._libs.index.IndexEngine.get_loc\u001b[1;34m()\u001b[0m\n",
      "\u001b[1;32mpandas\\_libs\\index.pyx\u001b[0m in \u001b[0;36mpandas._libs.index.IndexEngine.get_loc\u001b[1;34m()\u001b[0m\n",
      "\u001b[1;32mpandas\\_libs\\index_class_helper.pxi\u001b[0m in \u001b[0;36mpandas._libs.index.Int64Engine._check_type\u001b[1;34m()\u001b[0m\n",
      "\u001b[1;31mKeyError\u001b[0m: 'ENSG00000000003'"
     ]
    }
   ],
   "source": [
    "RA_expression_kegg=pd.read_csv('GSE143443_lcpm2.txt', sep='\\t',engine='python')\n",
    "gene_ensembl=list(RA_expression_kegg['Unnamed: 0'])\n",
    "index=[]\n",
    "for i in range(0,len(gene_ensembl)):\n",
    "    if gene_ensembl[i] in ensembltoNCBI.index==False:\n",
    "            index.append[i]\n",
    "    else: \n",
    "        a=ensembltoNCBI.index.get_loc(gene_ensembl[i])\n",
    "        RA_expression_kegg.iloc[i,0]=ensembltoNCBI.iloc[a,0]\n",
    "RA_expression_kegg.drop(index)\n",
    "RA_expression_kegg.set_index('Unnamed: 0')\n",
    "print(RA_expression_kegg)"
   ]
  },
  {
   "cell_type": "code",
   "execution_count": 21,
   "metadata": {},
   "outputs": [
    {
     "name": "stdout",
     "output_type": "stream",
     "text": [
      "67\n"
     ]
    }
   ],
   "source": [
    "print(len(set(RA_expression['Unnamed: 0']).difference(set(ensembltoNCBI['Gene stable ID']))))"
   ]
  },
  {
   "cell_type": "code",
   "execution_count": null,
   "metadata": {},
   "outputs": [],
   "source": [
    "print()"
   ]
  },
  {
   "cell_type": "code",
   "execution_count": 19,
   "metadata": {},
   "outputs": [],
   "source": [
    "f= open(\"ncbi_name.txt\",\"w+\")\n",
    "ncbiID=list(ensembltoNCBI['NCBI gene ID'])\n",
    "for i in range(0,len(ncbiID)):\n",
    "    f.write(str(ncbiID[i])+'\\n')"
   ]
  },
  {
   "cell_type": "code",
   "execution_count": 8,
   "metadata": {},
   "outputs": [
    {
     "name": "stdout",
     "output_type": "stream",
     "text": [
      "0        ENSG00000000003\n",
      "1        ENSG00000000419\n",
      "2        ENSG00000000457\n",
      "3        ENSG00000000460\n",
      "4        ENSG00000000971\n",
      "              ...       \n",
      "16265    ENSG00000284024\n",
      "16266    ENSG00000284048\n",
      "16267    ENSG00000284052\n",
      "16268    ENSG00000284237\n",
      "16269    ENSG00000284526\n",
      "Name: Unnamed: 0, Length: 16270, dtype: object\n"
     ]
    }
   ],
   "source": [
    "print(RA_expression['Unnamed: 0'])"
   ]
  }
 ],
 "metadata": {
  "kernelspec": {
   "display_name": "Python 3",
   "language": "python",
   "name": "python3"
  },
  "language_info": {
   "codemirror_mode": {
    "name": "ipython",
    "version": 3
   },
   "file_extension": ".py",
   "mimetype": "text/x-python",
   "name": "python",
   "nbconvert_exporter": "python",
   "pygments_lexer": "ipython3",
   "version": "3.7.6"
  }
 },
 "nbformat": 4,
 "nbformat_minor": 4
}
