{
 "cells": [
  {
   "cell_type": "code",
   "execution_count": 1,
   "metadata": {},
   "outputs": [],
   "source": [
    "import pandas as pd\n",
    "edgelist=pd.read_csv('largestCompKEGGigraph.txt',sep=' ')\n",
    "ovarian_expression1=pd.read_csv('Ovarian_expression_1.txt', sep='\\t')\n",
    "ovarian_expression2=pd.read_csv('Ovarian_expression_2.txt', sep='\\t')\n",
    "ovarian_expression3=pd.read_csv('Ovarian_expression_3.txt', sep='\\t')\n",
    "ovarian_expression4=pd.read_csv('Ovarian_expression_4.txt', sep='\\t')\n",
    "ovarian_expression5=pd.read_csv('Ovarian_expression_5.txt', sep='\\t')\n",
    "ovarian_expression6=pd.read_csv('Ovarian_expression_6.txt', sep='\\t')\n",
    "ovarian_expression7=pd.read_csv('Ovarian_expression_7.txt', sep='\\t')\n",
    "ovarian_expression8=pd.read_csv('Ovarian_expression_8.txt', sep='\\t')\n",
    "ovarian_expression9=pd.read_csv('Ovarian_expression_9.txt', sep='\\t')\n",
    "ovarian_expression10=pd.read_csv('Ovarian_expression_10.txt', sep='\\t')"
   ]
  },
  {
   "cell_type": "code",
   "execution_count": 2,
   "metadata": {},
   "outputs": [],
   "source": [
    "nodes=pd.read_csv('Sample3.txt')\n",
    "Kegg_gene=list(nodes.iloc[:,0])"
   ]
  },
  {
   "cell_type": "code",
   "execution_count": 3,
   "metadata": {},
   "outputs": [],
   "source": [
    "# Calculate the expression data from the 3 datasets\n",
    "import scipy as sp\n",
    "import scipy.stats\n",
    "ova_genes=list(ovarian_expression1.index)\n",
    "\n",
    "def calculate_spearman_corr(expression):\n",
    "    rho, pval = sp.stats.spearmanr(expression,axis=1)\n",
    "    return(rho)"
   ]
  },
  {
   "cell_type": "code",
   "execution_count": 4,
   "metadata": {},
   "outputs": [],
   "source": [
    "#construct the matrix of spearman correlation of the genes from each experiment\n",
    "# NOTE: authors used dataset 2,3 and 7 (GSE14764 GSE17260 GSE9891)\n",
    "rho1=calculate_spearman_corr(ovarian_expression1)\n",
    "rho2=calculate_spearman_corr(ovarian_expression2)\n",
    "rho3=calculate_spearman_corr(ovarian_expression3)\n",
    "rho4=calculate_spearman_corr(ovarian_expression4)\n",
    "rho5=calculate_spearman_corr(ovarian_expression5)\n",
    "rho6=calculate_spearman_corr(ovarian_expression6)\n",
    "rho7=calculate_spearman_corr(ovarian_expression7)\n",
    "rho8=calculate_spearman_corr(ovarian_expression8)\n",
    "rho9=calculate_spearman_corr(ovarian_expression9)\n",
    "rho10=calculate_spearman_corr(ovarian_expression10)\n"
   ]
  },
  {
   "cell_type": "code",
   "execution_count": 5,
   "metadata": {},
   "outputs": [
    {
     "name": "stdout",
     "output_type": "stream",
     "text": [
      "[[1.         0.24869383 0.4018005  ... 0.26806929 0.36938349 0.24325215]\n",
      " [0.24869383 1.         0.60627361 ... 0.51315007 0.3054015  0.52217265]\n",
      " [0.4018005  0.60627361 1.         ... 0.61089543 0.31285668 0.48716341]\n",
      " ...\n",
      " [0.26806929 0.51315007 0.61089543 ... 1.         0.24100957 0.36581063]\n",
      " [0.36938349 0.3054015  0.31285668 ... 0.24100957 1.         0.28673338]\n",
      " [0.24325215 0.52217265 0.48716341 ... 0.36581063 0.28673338 1.        ]]\n"
     ]
    }
   ],
   "source": [
    "print(rho1)"
   ]
  },
  {
   "cell_type": "code",
   "execution_count": 65,
   "metadata": {},
   "outputs": [],
   "source": [
    "# Find overlapping gene between KEGG and the ovarian data\n",
    "overlap_genes=list(set(ova_genes).intersection(set(Kegg_gene)))\n"
   ]
  },
  {
   "cell_type": "code",
   "execution_count": 67,
   "metadata": {},
   "outputs": [
    {
     "name": "stdout",
     "output_type": "stream",
     "text": [
      "2709\n"
     ]
    }
   ],
   "source": [
    "print(len(overlap_genes))"
   ]
  },
  {
   "cell_type": "code",
   "execution_count": 4,
   "metadata": {},
   "outputs": [
    {
     "name": "stdout",
     "output_type": "stream",
     "text": [
      "4867\n",
      "34\n"
     ]
    }
   ],
   "source": [
    "# Rebuild the KEGG network\n",
    "import networkx as nx\n",
    "G=nx.Graph()\n",
    "for i in range(0,len(edgelist)):\n",
    "    index1=edgelist.iloc[i,0]\n",
    "    index2=edgelist.iloc[i,1]\n",
    "    G.add_edge(nodes.iloc[index1,0],nodes.iloc[index2,0])\n",
    "print(len(list(G.nodes())))\n",
    "print(nx.diameter(G))"
   ]
  },
  {
   "cell_type": "code",
   "execution_count": 75,
   "metadata": {},
   "outputs": [
    {
     "name": "stdout",
     "output_type": "stream",
     "text": [
      "hsa:226\n"
     ]
    }
   ],
   "source": [
    "print(list(G.nodes())[0])"
   ]
  },
  {
   "cell_type": "code",
   "execution_count": 91,
   "metadata": {},
   "outputs": [],
   "source": [
    "import numpy as np\n",
    "# Calculate the distance matrix (geodesic distance between each of the two nodes)\n",
    "# In the distance matrix, row=source, column=target\n",
    "length=dict(nx.all_pairs_shortest_path_length(G))\n",
    "distance=np.ones((len(list(G.nodes())),len(list(G.nodes()))))\n",
    "for i in range(0,len(list(G.nodes()))):\n",
    "    for j in range(i,len(list(G.nodes()))):\n",
    "        distance[i,j]=length[list(G.nodes())[i]][list(G.nodes())[j]]\n",
    "        distance[j,i]=length[list(G.nodes())[j]][list(G.nodes())[i]]"
   ]
  },
  {
   "cell_type": "code",
   "execution_count": 94,
   "metadata": {},
   "outputs": [
    {
     "name": "stdout",
     "output_type": "stream",
     "text": [
      "34.0\n"
     ]
    }
   ],
   "source": [
    "print(np.amax(distance))"
   ]
  },
  {
   "cell_type": "code",
   "execution_count": 22,
   "metadata": {},
   "outputs": [
    {
     "name": "stdout",
     "output_type": "stream",
     "text": [
      "42873\n",
      "42873\n"
     ]
    }
   ],
   "source": [
    "#build the SI component\n",
    "#the SI component determines if a gene is more strongly correlated with its neighbors\n",
    "def SI(distance_matrix,cor_matrix,diameter,genes_assayed_network,gene_of_interest):\n",
    "    for i in range(0,diameter):\n",
    "        for j in range(1,i+1):\n",
    "            gene_of_interest\n",
    "        \n",
    "    "
   ]
  }
 ],
 "metadata": {
  "kernelspec": {
   "display_name": "Python 3",
   "language": "python",
   "name": "python3"
  },
  "language_info": {
   "codemirror_mode": {
    "name": "ipython",
    "version": 3
   },
   "file_extension": ".py",
   "mimetype": "text/x-python",
   "name": "python",
   "nbconvert_exporter": "python",
   "pygments_lexer": "ipython3",
   "version": "3.7.6"
  }
 },
 "nbformat": 4,
 "nbformat_minor": 4
}
