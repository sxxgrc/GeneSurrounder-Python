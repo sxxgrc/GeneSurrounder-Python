{
 "cells": [
  {
   "cell_type": "code",
   "execution_count": 214,
   "metadata": {},
   "outputs": [],
   "source": [
    "import pandas as pd\n",
    "import networkx as nx\n",
    "from import_cur_data import import_cur_data\n",
    "import numpy as np\n",
    "from scipy.stats import ttest_ind\n",
    "from scipy.stats import kendalltau as kendall_corr\n",
    "import random as rand\n"
   ]
  },
  {
   "cell_type": "code",
   "execution_count": 248,
   "metadata": {},
   "outputs": [],
   "source": []
  },
  {
   "cell_type": "code",
   "execution_count": 258,
   "metadata": {},
   "outputs": [],
   "source": [
    "\n",
    "\n",
    "def ttest(expr):\n",
    "    high_val = expr.loc['high'].values\n",
    "    low_val = expr.loc['low'].values\n",
    "    return ttest_ind(high_val, low_val)[1]\n",
    "\n",
    "def compute_G(expr, grade):\n",
    "    exp = expr.transpose()\n",
    "    exp['grade'] = grade\n",
    "    exp = exp.set_index('grade')\n",
    "    exp = exp.apply(ttest)\n",
    "    \n",
    "    return exp\n",
    "\n",
    "\n"
   ]
  },
  {
   "cell_type": "code",
   "execution_count": 171,
   "metadata": {},
   "outputs": [],
   "source": [
    "\n"
   ]
  },
  {
   "cell_type": "code",
   "execution_count": 172,
   "metadata": {},
   "outputs": [],
   "source": [
    "def dist_mat(net):\n",
    "    dist = nx.floyd_warshall_numpy(net)\n",
    "    dist_df = pd.DataFrame(dist, columns = net.nodes, index = net.nodes)\n",
    "    return dist_df\n",
    "\n",
    "# dist = dist_mat(G)"
   ]
  },
  {
   "cell_type": "code",
   "execution_count": 232,
   "metadata": {},
   "outputs": [
    {
     "data": {
      "text/plain": [
       "<bound method NDFrame.head of hsa:226       0.223607\n",
       "hsa:2597     -0.258199\n",
       "hsa:26330    -0.258199\n",
       "hsa:7167     -0.258199\n",
       "hsa:5211     -0.258199\n",
       "                ...   \n",
       "hsa:205       0.232048\n",
       "hsa:26289     0.232048\n",
       "hsa:390877    0.232048\n",
       "hsa:124583    0.232048\n",
       "hsa:955       0.284534\n",
       "Length: 243, dtype: float64>"
      ]
     },
     "execution_count": 232,
     "metadata": {},
     "output_type": "execute_result"
    }
   ],
   "source": [
    "def computeD(thresh, expr, grade, dist):\n",
    "    g_vals = compute_G(expr, grade)\n",
    "    discordance = pd.Series()\n",
    "    for gene in dist.index:\n",
    "        nearby = dist[gene][dist[gene] < thresh]\n",
    "        d = []\n",
    "        g = []\n",
    "        for node in nearby.index:\n",
    "            if node in g_vals.index:\n",
    "                d.append(nearby[node])\n",
    "                g.append(g_vals[node])\n",
    "            \n",
    "        tau = kendall_corr(g, d)[0]\n",
    "        discordance[gene] = tau\n",
    "    return discordance\n",
    "# dist = dist_mat(G)\n",
    "# out = computeD(4, expr[0][0:1000], grade[0][0:1000], dist)\n",
    "# out.head"
   ]
  },
  {
   "cell_type": "code",
   "execution_count": 373,
   "metadata": {},
   "outputs": [],
   "source": [
    "\n",
    "def computeDdist(thresh, expr, grade, G):\n",
    "    perm_count = 10**3\n",
    "    # should be 10**3 in official\n",
    "    \n",
    "    discordance = pd.DataFrame(columns = range(perm_count))\n",
    "    dist = dist_mat(G)\n",
    "    grade_var = pd.DataFrame(index = grade.index)\n",
    "    for k in range(perm_count):\n",
    "#         l = [rand.randint(0, 1) for i in range(len(grade))]\n",
    "#         perm_grade = []\n",
    "#         for i in l:\n",
    "#             if i == 1:\n",
    "#                 perm_grade.append('high')\n",
    "#             else:\n",
    "#                 perm_grade.append('low')\n",
    "                \n",
    "        l = [rand.random() for i in range(len(grade))]\n",
    "        perm_grade = []\n",
    "        t = sum(grade['x'] == 'high')/len(grade)\n",
    "        for i in l:\n",
    "            if i < t:\n",
    "                perm_grade.append('high')\n",
    "            else:\n",
    "                perm_grade.append('low')\n",
    "                \n",
    "        \n",
    "        grade_var['x'] = perm_grade\n",
    "        sample = computeD(thresh, expr, grade_var, dist)\n",
    "        discordance.iloc[:, k] = sample\n",
    "    return discordance\n",
    "        \n",
    "        \n",
    "    "
   ]
  },
  {
   "cell_type": "code",
   "execution_count": 383,
   "metadata": {},
   "outputs": [
    {
     "data": {
      "text/plain": [
       "hsa:226      0.48\n",
       "hsa:2597     0.45\n",
       "hsa:26330    0.45\n",
       "hsa:7167     0.45\n",
       "hsa:5211     0.45\n",
       "dtype: float64"
      ]
     },
     "execution_count": 383,
     "metadata": {},
     "output_type": "execute_result"
    }
   ],
   "source": [
    "def decayDE(expr, grade, thresh, G):    \n",
    "    dist = dist_mat(G)\n",
    "    trueval = computeD(thresh, expr, grade, dist)\n",
    "    distribution = computeDdist(thresh, expr, grade, G)\n",
    "    pvals = distribution.subtract(trueval, 0).where(distribution < 0).count(1)\n",
    "    pvals = pvals/distribution.shape[1]\n",
    "    return pvals\n",
    "   \n"
   ]
  },
  {
   "cell_type": "code",
   "execution_count": 390,
   "metadata": {},
   "outputs": [
    {
     "data": {
      "text/plain": [
       "243"
      ]
     },
     "execution_count": 390,
     "metadata": {},
     "output_type": "execute_result"
    }
   ],
   "source": [
    "### driver\n",
    "[expr, grade] = import_cur_data('data_auto_import/CurOvGradeKEGGnets.RData')\n",
    "datasets = [2, 5, 7]\n",
    "\n",
    "def get_items_list(obj, ind):\n",
    "    return [obj[x] for x in ind]\n",
    "\n",
    "grade = get_items_list(grade, datasets)\n",
    "expr = get_items_list(expr, datasets)\n",
    "\n",
    "nodes = pd.read_csv('data/Sample3.txt')\n",
    "edgelist = pd.read_csv('data/largestCompKEGGigraph.txt', sep=' ', header = None)\n",
    "edgelist = edgelist.replace(nodes.index, nodes.values)\n",
    "# edgelist = edgelist[0:1000]\n",
    "G = nx.from_pandas_edgelist(edgelist, 0, 1)\n",
    "\n",
    "\n",
    "\n",
    "decay = decayDE(expr[0], grade[0], 4, G)\n",
    "    # expr, grade, thresh, G\n",
    "decay.head()\n",
    "\n",
    "\n",
    "# # to run through all datasets, iterate over expr and grade as below\n",
    "# decay = []\n",
    "# for expr_sample, grade_sample in zip(expr, grade):\n",
    "#     decay.append(decayDE(expr[0], grade[0], 4, G))"
   ]
  },
  {
   "cell_type": "code",
   "execution_count": null,
   "metadata": {},
   "outputs": [],
   "source": []
  },
  {
   "cell_type": "code",
   "execution_count": null,
   "metadata": {},
   "outputs": [],
   "source": []
  }
 ],
 "metadata": {
  "kernelspec": {
   "display_name": "Python 3",
   "language": "python",
   "name": "python3"
  },
  "language_info": {
   "codemirror_mode": {
    "name": "ipython",
    "version": 3
   },
   "file_extension": ".py",
   "mimetype": "text/x-python",
   "name": "python",
   "nbconvert_exporter": "python",
   "pygments_lexer": "ipython3",
   "version": "3.7.4"
  }
 },
 "nbformat": 4,
 "nbformat_minor": 2
}
